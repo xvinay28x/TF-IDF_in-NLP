{
 "cells": [
  {
   "cell_type": "markdown",
   "id": "9b220e8e",
   "metadata": {},
   "source": [
    "# TF-IDF"
   ]
  },
  {
   "cell_type": "code",
   "execution_count": 1,
   "id": "32070645",
   "metadata": {},
   "outputs": [],
   "source": [
    "import nltk\n",
    "import re\n",
    "from nltk.corpus import stopwords\n",
    "from nltk.stem import PorterStemmer\n",
    "from nltk.stem import WordNetLemmatizer\n",
    "from sklearn.feature_extraction.text import TfidfVectorizer"
   ]
  },
  {
   "cell_type": "code",
   "execution_count": 2,
   "id": "7302580a",
   "metadata": {},
   "outputs": [],
   "source": [
    "paragraph = \"\"\"Trees are significant in our life. Life will turn out to be extremely troublesome without trees. We can say that life would be done because a tree is the most significant angle giving a solid and well off life.These days individuals are eagerly chopping down trees; on the off chance that it proceeds, at that point, one day will come when will have no trees left with us. Trees give us oxygen, which is required for our breath.Indeed, trees can stop soil disintegration. Consequently, we should comprehend the significance of trees, and we should plant a tree at whatever point we are chopping down a solitary one.\n",
    "\n",
    "Trees are significant for life on earth. Without trees, the earth will get dead and dry. There would be no water, no downpour, and no backwoods by any means. Trees give us oxygen, shade, foods grown from the ground more. They likewise fill in as a home for about 10,000 types of flying creatures—trees structure backwoods. Without trees, there would be no woods.People and creatures need oxygen to live. Indeed, even fishes need oxygen in their gills. The trees make that oxygen. Trees inhale Carbon dioxide (CO2) and give Oxygen (O2). Two major trees can create a year’s oxygen for your family. Without trees, there would be no life.Flying creatures have their homes on trees. It is the main house they have. They additionally get food from trees. People likewise eat natural products given by trees. Also, they sell it in the market for cash. A few trees give us medication, oils, and elastic, etc. Trees hold the dirt during downpours.Trees are God’s most prominent blessing to life on earth. They give oxygen, food, haven, and downpours. Trees additionally channel the air and make it clean. Tree roots tie the dirt and keep it perfect. For winged animals and creatures, a tree resembles a house. It resembles a characteristic rooftop overhead.Without trees, fowls will be most in harm’s way. They will have no spot to home and lay eggs. Before long, each one of these creatures will bite the dust. They unwind under trees in summer and likewise get cover from the downpour. Creatures and winged animals eat the products of trees: trees spare fowls and little creatures from their predators.Trees help us as long as they survive themselves. They likewise help monitor the temperature. They help by cooling the air in summer. Elephants and different creatures eat the leaves of trees.They are useful in any event when they pass on. Their wood is utilized to make furniture. It is seared to prepare food and get heat. The fallen leaves are awesome compost. Trees live for many years and help us. We should plant whatever number trees as could be allowed. We should likewise not harm a tree and let it live.Trees come in various shapes and sizes. Some are colossal while some are little, some have thick and others have hard trunks. Other’s trunks are dainty and delicate. Some give products of the soil give blossoms. In any case, every last one of them is a blessing—a blessing God has given us the goal that we can relax.\n",
    "\n",
    "We take noticeable all around and take oxygen. Same oxygen that the trees produce. Would we be able to live without oxygen? The appropriate response is no. This answer clarifies how significant trees are for life on earth. They are the world’s life emotionally supportive network.Trees likewise have extraordinary business esteem. The wood mash of trees is utilized to make papers. They are utilized to make windows and entryways. Trees hold water during downpours. This water fills an underground water hold. They likewise keep soil from escaping.Trees additionally give shade to youngsters in schools. During the break, youngsters sit and play beneath trees. Trees make a spot look wonderful. They diminish commotion and contamination. Trees likewise keep the air clean by retaining dust.Trees are home for winged creatures, squirrels, and bugs. Trees are known to lessen circulatory strain and stress. Old trees have hollows in which little creatures and flying creatures dwell. Trees have been helping us for a great many years. A few religions esteem trees as Gods. They perform puja under the tree and care for it. We as a whole should think about trees and plant another one. It would be best if you plant a tree in your home. Planting another tree along the road will help other people.\"\"\""
   ]
  },
  {
   "cell_type": "code",
   "execution_count": 3,
   "id": "af396c38",
   "metadata": {},
   "outputs": [],
   "source": [
    "stop_words = set(stopwords.words(\"english\"))"
   ]
  },
  {
   "cell_type": "code",
   "execution_count": 4,
   "id": "92713c5b",
   "metadata": {},
   "outputs": [],
   "source": [
    "lemmatizer = WordNetLemmatizer()"
   ]
  },
  {
   "cell_type": "markdown",
   "id": "df7cc108",
   "metadata": {},
   "source": [
    "# How many sentence in this paragraph ?"
   ]
  },
  {
   "cell_type": "code",
   "execution_count": 5,
   "id": "5df5d9f2",
   "metadata": {},
   "outputs": [],
   "source": [
    "sentences = nltk.sent_tokenize(paragraph)"
   ]
  },
  {
   "cell_type": "code",
   "execution_count": 6,
   "id": "7f5b1b2f",
   "metadata": {},
   "outputs": [
    {
     "data": {
      "text/plain": [
       "67"
      ]
     },
     "execution_count": 6,
     "metadata": {},
     "output_type": "execute_result"
    }
   ],
   "source": [
    "len(sentences)"
   ]
  },
  {
   "cell_type": "code",
   "execution_count": 7,
   "id": "e687b67b",
   "metadata": {},
   "outputs": [
    {
     "data": {
      "text/plain": [
       "'Trees are significant in our life.'"
      ]
     },
     "execution_count": 7,
     "metadata": {},
     "output_type": "execute_result"
    }
   ],
   "source": [
    "sentences[0]"
   ]
  },
  {
   "cell_type": "markdown",
   "id": "9eee03f1",
   "metadata": {},
   "source": [
    "## 67 sentences in this paragraph."
   ]
  },
  {
   "cell_type": "markdown",
   "id": "5a8eb58b",
   "metadata": {},
   "source": [
    "# -------------------------------------------------------------------------------------------------------------"
   ]
  },
  {
   "cell_type": "markdown",
   "id": "513e771f",
   "metadata": {},
   "source": [
    "# How many words in this whole paragraph ?"
   ]
  },
  {
   "cell_type": "code",
   "execution_count": 8,
   "id": "50c8e684",
   "metadata": {},
   "outputs": [],
   "source": [
    "words = nltk.word_tokenize(paragraph)"
   ]
  },
  {
   "cell_type": "code",
   "execution_count": 9,
   "id": "82c07783",
   "metadata": {},
   "outputs": [
    {
     "data": {
      "text/plain": [
       "4338"
      ]
     },
     "execution_count": 9,
     "metadata": {},
     "output_type": "execute_result"
    }
   ],
   "source": [
    "len(paragraph)"
   ]
  },
  {
   "cell_type": "code",
   "execution_count": 10,
   "id": "11ce33c2",
   "metadata": {},
   "outputs": [
    {
     "data": {
      "text/plain": [
       "'Trees'"
      ]
     },
     "execution_count": 10,
     "metadata": {},
     "output_type": "execute_result"
    }
   ],
   "source": [
    "words[0]"
   ]
  },
  {
   "cell_type": "markdown",
   "id": "c8cb2f28",
   "metadata": {},
   "source": [
    "## 4338 words in this paragraph."
   ]
  },
  {
   "cell_type": "markdown",
   "id": "3ed6452f",
   "metadata": {},
   "source": [
    "# -------------------------------------------------------------------------------------------------------------"
   ]
  },
  {
   "cell_type": "code",
   "execution_count": 11,
   "id": "98c0dbb5",
   "metadata": {},
   "outputs": [],
   "source": [
    "clean_text = []"
   ]
  },
  {
   "cell_type": "code",
   "execution_count": 12,
   "id": "977be64a",
   "metadata": {},
   "outputs": [],
   "source": [
    "for i in range(len(sentences)):\n",
    "    clean = re.sub(\"[^a-zA-Z]\",\" \",sentences[i])\n",
    "    clean = clean.lower()\n",
    "    clean = clean.split()\n",
    "    clean = [lemmatizer.lemmatize(word) for word in clean if word not in stop_words]\n",
    "    clean = \" \".join(clean)\n",
    "    clean_text.append(clean)"
   ]
  },
  {
   "cell_type": "code",
   "execution_count": 13,
   "id": "ebcd4131",
   "metadata": {},
   "outputs": [
    {
     "data": {
      "text/plain": [
       "'tree significant life'"
      ]
     },
     "execution_count": 13,
     "metadata": {},
     "output_type": "execute_result"
    }
   ],
   "source": [
    "clean_text[0]"
   ]
  },
  {
   "cell_type": "code",
   "execution_count": 14,
   "id": "ce86dbec",
   "metadata": {},
   "outputs": [],
   "source": [
    "cv = TfidfVectorizer()"
   ]
  },
  {
   "cell_type": "code",
   "execution_count": 15,
   "id": "cb13c56d",
   "metadata": {},
   "outputs": [],
   "source": [
    "x = cv.fit_transform(clean_text).toarray()"
   ]
  },
  {
   "cell_type": "code",
   "execution_count": 16,
   "id": "180c6bd0",
   "metadata": {},
   "outputs": [
    {
     "data": {
      "text/plain": [
       "['able',\n",
       " 'additionally',\n",
       " 'air',\n",
       " 'allowed',\n",
       " 'along',\n",
       " 'also',\n",
       " 'angle',\n",
       " 'animal',\n",
       " 'another',\n",
       " 'answer',\n",
       " 'appropriate',\n",
       " 'around',\n",
       " 'awesome',\n",
       " 'backwoods',\n",
       " 'beneath',\n",
       " 'best',\n",
       " 'bite',\n",
       " 'blessing',\n",
       " 'blossom',\n",
       " 'break',\n",
       " 'breath',\n",
       " 'bug',\n",
       " 'business',\n",
       " 'carbon',\n",
       " 'care',\n",
       " 'case',\n",
       " 'cash',\n",
       " 'chance',\n",
       " 'channel',\n",
       " 'characteristic',\n",
       " 'chopping',\n",
       " 'circulatory',\n",
       " 'clarifies',\n",
       " 'clean',\n",
       " 'co',\n",
       " 'colossal',\n",
       " 'come',\n",
       " 'commotion',\n",
       " 'compost',\n",
       " 'comprehend',\n",
       " 'consequently',\n",
       " 'contamination',\n",
       " 'cooling',\n",
       " 'could',\n",
       " 'cover',\n",
       " 'create',\n",
       " 'creature',\n",
       " 'dainty',\n",
       " 'day',\n",
       " 'dead',\n",
       " 'delicate',\n",
       " 'different',\n",
       " 'diminish',\n",
       " 'dioxide',\n",
       " 'dirt',\n",
       " 'disintegration',\n",
       " 'done',\n",
       " 'downpour',\n",
       " 'dry',\n",
       " 'dust',\n",
       " 'dwell',\n",
       " 'eagerly',\n",
       " 'earth',\n",
       " 'eat',\n",
       " 'egg',\n",
       " 'elastic',\n",
       " 'elephant',\n",
       " 'emotionally',\n",
       " 'entryway',\n",
       " 'escaping',\n",
       " 'esteem',\n",
       " 'etc',\n",
       " 'even',\n",
       " 'event',\n",
       " 'every',\n",
       " 'extraordinary',\n",
       " 'extremely',\n",
       " 'fallen',\n",
       " 'family',\n",
       " 'fill',\n",
       " 'fish',\n",
       " 'flying',\n",
       " 'food',\n",
       " 'fowl',\n",
       " 'furniture',\n",
       " 'get',\n",
       " 'gill',\n",
       " 'give',\n",
       " 'given',\n",
       " 'giving',\n",
       " 'goal',\n",
       " 'god',\n",
       " 'great',\n",
       " 'ground',\n",
       " 'grown',\n",
       " 'hard',\n",
       " 'harm',\n",
       " 'heat',\n",
       " 'help',\n",
       " 'helping',\n",
       " 'hold',\n",
       " 'hollow',\n",
       " 'home',\n",
       " 'house',\n",
       " 'indeed',\n",
       " 'individual',\n",
       " 'inhale',\n",
       " 'keep',\n",
       " 'known',\n",
       " 'last',\n",
       " 'lay',\n",
       " 'leaf',\n",
       " 'left',\n",
       " 'lessen',\n",
       " 'let',\n",
       " 'life',\n",
       " 'likewise',\n",
       " 'little',\n",
       " 'live',\n",
       " 'long',\n",
       " 'look',\n",
       " 'main',\n",
       " 'major',\n",
       " 'make',\n",
       " 'many',\n",
       " 'market',\n",
       " 'mash',\n",
       " 'mean',\n",
       " 'medication',\n",
       " 'monitor',\n",
       " 'natural',\n",
       " 'need',\n",
       " 'network',\n",
       " 'noticeable',\n",
       " 'number',\n",
       " 'oil',\n",
       " 'old',\n",
       " 'one',\n",
       " 'others',\n",
       " 'overhead',\n",
       " 'oxygen',\n",
       " 'paper',\n",
       " 'pas',\n",
       " 'people',\n",
       " 'perfect',\n",
       " 'perform',\n",
       " 'plant',\n",
       " 'planting',\n",
       " 'play',\n",
       " 'point',\n",
       " 'predator',\n",
       " 'prepare',\n",
       " 'proceeds',\n",
       " 'produce',\n",
       " 'product',\n",
       " 'prominent',\n",
       " 'puja',\n",
       " 'relax',\n",
       " 'religion',\n",
       " 'required',\n",
       " 'resembles',\n",
       " 'response',\n",
       " 'retaining',\n",
       " 'road',\n",
       " 'rooftop',\n",
       " 'root',\n",
       " 'say',\n",
       " 'school',\n",
       " 'seared',\n",
       " 'sell',\n",
       " 'shade',\n",
       " 'shape',\n",
       " 'significance',\n",
       " 'significant',\n",
       " 'sit',\n",
       " 'size',\n",
       " 'soil',\n",
       " 'solid',\n",
       " 'solitary',\n",
       " 'spare',\n",
       " 'spot',\n",
       " 'squirrel',\n",
       " 'stop',\n",
       " 'strain',\n",
       " 'stress',\n",
       " 'structure',\n",
       " 'summer',\n",
       " 'supportive',\n",
       " 'survive',\n",
       " 'take',\n",
       " 'temperature',\n",
       " 'thick',\n",
       " 'think',\n",
       " 'tie',\n",
       " 'tree',\n",
       " 'troublesome',\n",
       " 'trunk',\n",
       " 'turn',\n",
       " 'two',\n",
       " 'type',\n",
       " 'underground',\n",
       " 'unwind',\n",
       " 'useful',\n",
       " 'utilized',\n",
       " 'various',\n",
       " 'water',\n",
       " 'way',\n",
       " 'well',\n",
       " 'whatever',\n",
       " 'whole',\n",
       " 'window',\n",
       " 'winged',\n",
       " 'without',\n",
       " 'wonderful',\n",
       " 'wood',\n",
       " 'world',\n",
       " 'would',\n",
       " 'year',\n",
       " 'youngster']"
      ]
     },
     "execution_count": 16,
     "metadata": {},
     "output_type": "execute_result"
    }
   ],
   "source": [
    "cv.get_feature_names()"
   ]
  },
  {
   "cell_type": "code",
   "execution_count": 17,
   "id": "c4c7617c",
   "metadata": {},
   "outputs": [
    {
     "data": {
      "text/plain": [
       "219"
      ]
     },
     "execution_count": 17,
     "metadata": {},
     "output_type": "execute_result"
    }
   ],
   "source": [
    "len(cv.get_feature_names())"
   ]
  },
  {
   "cell_type": "code",
   "execution_count": 18,
   "id": "e65bf5c5",
   "metadata": {},
   "outputs": [
    {
     "data": {
      "text/plain": [
       "219"
      ]
     },
     "execution_count": 18,
     "metadata": {},
     "output_type": "execute_result"
    }
   ],
   "source": [
    "len(x[0])"
   ]
  },
  {
   "cell_type": "code",
   "execution_count": 19,
   "id": "6d4f9347",
   "metadata": {},
   "outputs": [
    {
     "data": {
      "text/plain": [
       "array([0.        , 0.        , 0.        , 0.        , 0.        ,\n",
       "       0.        , 0.        , 0.        , 0.        , 0.        ,\n",
       "       0.        , 0.        , 0.        , 0.        , 0.        ,\n",
       "       0.        , 0.        , 0.        , 0.        , 0.        ,\n",
       "       0.        , 0.        , 0.        , 0.        , 0.        ,\n",
       "       0.        , 0.        , 0.        , 0.        , 0.        ,\n",
       "       0.        , 0.        , 0.        , 0.        , 0.        ,\n",
       "       0.        , 0.        , 0.        , 0.        , 0.        ,\n",
       "       0.        , 0.        , 0.        , 0.        , 0.        ,\n",
       "       0.        , 0.        , 0.        , 0.        , 0.        ,\n",
       "       0.        , 0.        , 0.        , 0.        , 0.        ,\n",
       "       0.        , 0.        , 0.        , 0.        , 0.        ,\n",
       "       0.        , 0.        , 0.        , 0.        , 0.        ,\n",
       "       0.        , 0.        , 0.        , 0.        , 0.        ,\n",
       "       0.        , 0.        , 0.        , 0.        , 0.        ,\n",
       "       0.        , 0.        , 0.        , 0.        , 0.        ,\n",
       "       0.        , 0.        , 0.        , 0.        , 0.        ,\n",
       "       0.        , 0.        , 0.        , 0.        , 0.        ,\n",
       "       0.        , 0.        , 0.        , 0.        , 0.        ,\n",
       "       0.        , 0.        , 0.        , 0.        , 0.        ,\n",
       "       0.        , 0.        , 0.        , 0.        , 0.        ,\n",
       "       0.        , 0.        , 0.        , 0.        , 0.        ,\n",
       "       0.        , 0.        , 0.        , 0.        , 0.        ,\n",
       "       0.615623  , 0.        , 0.        , 0.        , 0.        ,\n",
       "       0.        , 0.        , 0.        , 0.        , 0.        ,\n",
       "       0.        , 0.        , 0.        , 0.        , 0.        ,\n",
       "       0.        , 0.        , 0.        , 0.        , 0.        ,\n",
       "       0.        , 0.        , 0.        , 0.        , 0.        ,\n",
       "       0.        , 0.        , 0.        , 0.        , 0.        ,\n",
       "       0.        , 0.        , 0.        , 0.        , 0.        ,\n",
       "       0.        , 0.        , 0.        , 0.        , 0.        ,\n",
       "       0.        , 0.        , 0.        , 0.        , 0.        ,\n",
       "       0.        , 0.        , 0.        , 0.        , 0.        ,\n",
       "       0.        , 0.        , 0.        , 0.        , 0.        ,\n",
       "       0.        , 0.        , 0.        , 0.73535202, 0.        ,\n",
       "       0.        , 0.        , 0.        , 0.        , 0.        ,\n",
       "       0.        , 0.        , 0.        , 0.        , 0.        ,\n",
       "       0.        , 0.        , 0.        , 0.        , 0.        ,\n",
       "       0.        , 0.        , 0.        , 0.        , 0.28331207,\n",
       "       0.        , 0.        , 0.        , 0.        , 0.        ,\n",
       "       0.        , 0.        , 0.        , 0.        , 0.        ,\n",
       "       0.        , 0.        , 0.        , 0.        , 0.        ,\n",
       "       0.        , 0.        , 0.        , 0.        , 0.        ,\n",
       "       0.        , 0.        , 0.        , 0.        ])"
      ]
     },
     "execution_count": 19,
     "metadata": {},
     "output_type": "execute_result"
    }
   ],
   "source": [
    "x[0]"
   ]
  },
  {
   "cell_type": "code",
   "execution_count": null,
   "id": "48eb5fc3",
   "metadata": {},
   "outputs": [],
   "source": []
  }
 ],
 "metadata": {
  "kernelspec": {
   "display_name": "Python 3",
   "language": "python",
   "name": "python3"
  },
  "language_info": {
   "codemirror_mode": {
    "name": "ipython",
    "version": 3
   },
   "file_extension": ".py",
   "mimetype": "text/x-python",
   "name": "python",
   "nbconvert_exporter": "python",
   "pygments_lexer": "ipython3",
   "version": "3.8.8"
  }
 },
 "nbformat": 4,
 "nbformat_minor": 5
}
